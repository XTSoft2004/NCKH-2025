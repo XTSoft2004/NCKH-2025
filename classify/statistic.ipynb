{
 "cells": [
  {
   "cell_type": "code",
   "execution_count": 1,
   "id": "3499af98",
   "metadata": {},
   "outputs": [],
   "source": [
    "import os\n",
    "import json\n",
    "import numpy as np\n",
    "from os import path as osp\n",
    "from matplotlib import pyplot as plt"
   ]
  },
  {
   "cell_type": "code",
   "execution_count": 2,
   "id": "6c2dca72",
   "metadata": {},
   "outputs": [],
   "source": [
    "OUTPUT_DIR = \"outputs\"\n",
    "\n",
    "models_name = [\n",
    "    \"mnet\",\n",
    "    \"mnetv2\",\n",
    "    \"mnetv3_small\",\n",
    "    \"mnetv3_large\"\n",
    "]"
   ]
  },
  {
   "cell_type": "code",
   "execution_count": 11,
   "id": "debbec2c",
   "metadata": {},
   "outputs": [],
   "source": [
    "results = {}\n",
    "\n",
    "for model_name in models_name:\n",
    "    with open(osp.join(OUTPUT_DIR, model_name, \"results.json\"), \"r\") as f:\n",
    "        result = json.load(f)\n",
    "    \n",
    "    avg_result_model = {\n",
    "        \"accuracy\": [],\n",
    "        \"auc\": [],\n",
    "        \"macro\": {\n",
    "            \"precision\": [],\n",
    "            \"recall\": [],\n",
    "            \"f1-score\": []\n",
    "        },\n",
    "        \"weighted\": {\n",
    "            \"precision\": [],\n",
    "            \"recall\": [],\n",
    "            \"f1-score\": []\n",
    "        },\n",
    "    }    \n",
    "    \n",
    "    for fold_id, fold_result in enumerate(result):\n",
    "        for metric_method in [\"macro\", \"weighted\"]:\n",
    "            for metric in [\"precision\", \"recall\", \"f1-score\"]:\n",
    "                avg_result_model[metric_method][metric].append(fold_result[metric_method + \" avg\"][metric])\n",
    "        for metric in [\"accuracy\", \"auc\"]:\n",
    "            avg_result_model[metric].append(fold_result[metric])\n",
    "            \n",
    "    results[model_name] = avg_result_model"
   ]
  },
  {
   "cell_type": "code",
   "execution_count": 19,
   "id": "8df0a871",
   "metadata": {},
   "outputs": [
    {
     "name": "stdout",
     "output_type": "stream",
     "text": [
      "Model: mnet\n",
      "macro precision: 0.9737\n",
      "macro recall: 0.9924\n",
      "macro f1-score: 0.9827\n",
      "weighted precision: 0.9887\n",
      "weighted recall: 0.9881\n",
      "weighted f1-score: 0.9882\n",
      "accuracy: 0.9881\n",
      "auc: 0.9989\n",
      "\n",
      "Model: mnetv2\n",
      "macro precision: 0.9768\n",
      "macro recall: 0.9932\n",
      "macro f1-score: 0.9845\n",
      "weighted precision: 0.9900\n",
      "weighted recall: 0.9893\n",
      "weighted f1-score: 0.9894\n",
      "accuracy: 0.9893\n",
      "auc: 0.9995\n",
      "\n",
      "Model: mnetv3_small\n",
      "macro precision: 0.9865\n",
      "macro recall: 0.9962\n",
      "macro f1-score: 0.9912\n",
      "weighted precision: 0.9942\n",
      "weighted recall: 0.9940\n",
      "weighted f1-score: 0.9941\n",
      "accuracy: 0.9940\n",
      "auc: 0.9996\n",
      "\n",
      "Model: mnetv3_large\n",
      "macro precision: 0.9865\n",
      "macro recall: 0.9962\n",
      "macro f1-score: 0.9912\n",
      "weighted precision: 0.9942\n",
      "weighted recall: 0.9940\n",
      "weighted f1-score: 0.9941\n",
      "accuracy: 0.9940\n",
      "auc: 0.9990\n",
      "\n"
     ]
    }
   ],
   "source": [
    "for model_name in models_name:\n",
    "    print(f\"Model: {model_name}\")\n",
    "    for metric_method in [\"macro\", \"weighted\"]:\n",
    "        for metric in [\"precision\", \"recall\", \"f1-score\"]:\n",
    "            metric_values = results[model_name][metric_method][metric]\n",
    "            mean = np.mean(metric_values)\n",
    "            print(f\"{metric_method} {metric}: {mean:.4f}\")\n",
    "    for metric in [\"accuracy\", \"auc\"]:\n",
    "        metric_values = results[model_name][metric]\n",
    "        mean = np.mean(metric_values)\n",
    "        print(f\"{metric}: {mean:.4f}\")\n",
    "    print()"
   ]
  }
 ],
 "metadata": {
  "kernelspec": {
   "display_name": "Python 3",
   "language": "python",
   "name": "python3"
  },
  "language_info": {
   "codemirror_mode": {
    "name": "ipython",
    "version": 3
   },
   "file_extension": ".py",
   "mimetype": "text/x-python",
   "name": "python",
   "nbconvert_exporter": "python",
   "pygments_lexer": "ipython3",
   "version": "3.12.11"
  }
 },
 "nbformat": 4,
 "nbformat_minor": 5
}
